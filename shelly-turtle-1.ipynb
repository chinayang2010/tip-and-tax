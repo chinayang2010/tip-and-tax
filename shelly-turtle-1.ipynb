{
 "cells": [
  {
   "cell_type": "code",
   "execution_count": 1,
   "metadata": {},
   "outputs": [],
   "source": [
    "import turtle\n",
    "shelly=turtle.Turtle()\n",
    "cc=turtle.Turtle()\n",
    "shelly.shape('turtle')\n",
    "cc.shape('turtle')\n",
    "cc.color('blue')\n",
    "shelly.color('red')\n",
    "shelly.shapesize(1,0.5)\n",
    " # turns shelly right 90 degrees"
   ]
  },
  {
   "cell_type": "code",
   "execution_count": 2,
   "metadata": {},
   "outputs": [],
   "source": [
    "shelly.forward(100) # moves shelly forward 100 steps\n",
    "shelly.right(90) # move shelly right 90 degrees\n",
    "shelly.backward(100) # moves shelly backwards 100 steps\n",
    "shelly.left(60) # move shelly left 60 degrees\n",
    "shelly.backward(100) # moves shelly backwards 100 steps\n",
    "cc.forward(100)\n",
    "cc.right(90)\n",
    "cc.forward(60)\n",
    "shelly.forward(50)"
   ]
  },
  {
   "cell_type": "code",
   "execution_count": 3,
   "metadata": {},
   "outputs": [
    {
     "data": {
      "text/plain": [
       "(100.00,-60.00)"
      ]
     },
     "execution_count": 3,
     "metadata": {},
     "output_type": "execute_result"
    }
   ],
   "source": [
    "cc.position()"
   ]
  },
  {
   "cell_type": "code",
   "execution_count": 4,
   "metadata": {},
   "outputs": [
    {
     "data": {
      "text/plain": [
       "(56.70,125.00)"
      ]
     },
     "execution_count": 4,
     "metadata": {},
     "output_type": "execute_result"
    }
   ],
   "source": [
    "shelly.position()"
   ]
  },
  {
   "cell_type": "code",
   "execution_count": 5,
   "metadata": {},
   "outputs": [],
   "source": [
    "shelly.circle(100)"
   ]
  },
  {
   "cell_type": "code",
   "execution_count": null,
   "metadata": {},
   "outputs": [],
   "source": []
  }
 ],
 "metadata": {
  "kernelspec": {
   "display_name": "Python 3",
   "language": "python",
   "name": "python3"
  },
  "language_info": {
   "codemirror_mode": {
    "name": "ipython",
    "version": 3
   },
   "file_extension": ".py",
   "mimetype": "text/x-python",
   "name": "python",
   "nbconvert_exporter": "python",
   "pygments_lexer": "ipython3",
   "version": "3.7.6"
  }
 },
 "nbformat": 4,
 "nbformat_minor": 4
}
